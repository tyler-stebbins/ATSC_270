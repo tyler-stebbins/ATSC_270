{
 "cells": [
  {
   "cell_type": "markdown",
   "id": "bd61f82f",
   "metadata": {},
   "source": [
    "# ASSIGNMENT #2 - ATMOSPHERIC SOUNDINGS #\n",
    "Due: 04 February 2023 @ 11:59p"
   ]
  },
  {
   "cell_type": "markdown",
   "id": "816b3dd4",
   "metadata": {},
   "source": [
    "Purpose:\\\n",
    "The purpose of this assignment is to become familiar with reading in text data, storing the data in arrays, applying metpy units, and outputting the data into easily read files.\n",
    "\n",
    "Overview:\\\n",
    "In this assignment you will read in atmospheric sounding data and apply units to the data and print the data to a text file and a comma-separated value (csv) text file.\n",
    "\n",
    "\n",
    "| | UPDATE TO YOUR INFORMATION | \n",
    "| :- | :- |\n",
    "| Created By | Tyler Stebbins |\n",
    "| Creation Date | 22 January 2024 |\n",
    "| Course | ATSC 270 - Computer Concepts in Meteorology |"
   ]
  },
  {
   "cell_type": "code",
   "execution_count": 1,
   "id": "eb870142",
   "metadata": {},
   "outputs": [],
   "source": [
    "### UPDATE TO YOUR INFORMATION ###\n",
    "#information allowing anyone with the code to print the author and contact information\n",
    "__author__    = \"Tyler Stebbins\"\n",
    "__contact__   = \"tyler.stebbins@und.edu\""
   ]
  },
  {
   "cell_type": "markdown",
   "id": "7dec3f1b",
   "metadata": {},
   "source": [
    "### IMPORT REQUIRED LIBRARIES ###"
   ]
  },
  {
   "cell_type": "code",
   "execution_count": 2,
   "id": "b4b5cb45",
   "metadata": {},
   "outputs": [],
   "source": [
    "import numpy as np\n",
    "from metpy.calc import wind_components\n",
    "from metpy.units import units\n",
    "import pandas as pd"
   ]
  },
  {
   "cell_type": "markdown",
   "id": "1df8fe8f",
   "metadata": {},
   "source": [
    "### OPEN SOUNDING FILE ###"
   ]
  },
  {
   "cell_type": "code",
   "execution_count": 3,
   "id": "2a62a4f1",
   "metadata": {},
   "outputs": [],
   "source": [
    "#open file\n",
    "sounding_file = open(\"KBIS_2009011512.txt\",\"r\").readlines()\n",
    "\n"
   ]
  },
  {
   "cell_type": "markdown",
   "id": "133b2f64",
   "metadata": {},
   "source": [
    "### READ IN DATA INTO LISTS ###"
   ]
  },
  {
   "cell_type": "code",
   "execution_count": 7,
   "id": "65907f20",
   "metadata": {},
   "outputs": [
    {
     "name": "stdout",
     "output_type": "stream",
     "text": [
      "['M', '0.0', 'M', 'M', 'M', '0.0', '0.0', 'M', '0.0', 'M', '0.0', '0.0', '0.0', 'M', '1.0', 'M', 'M', '1.0', 'M', '2.0', '3.0', 'M', '5.0', '7.0', '8.0', 'M', '9.0', 'M', '13.0', 'M', 'M', '17.0', '18.0', '22.0', '30.0', '32.0', '34.0', '34.0', 'M', '38.0', 'M', 'M', 'M', '46.0', '46.0', 'M', 'M', 'M', 'M', 'M', '54.0', 'M', '56.0', 'M', 'M', 'M', '67.0', 'M', 'M', '70.0', 'M', 'M', '78.0', '80.0', 'M', '82.0', 'M', '89.0', 'M', '92.0', 'M', '98.0', '100.0', '108.0', '109.0', '109.0', '117.0', '122.0', '123.0', 'M']\n"
     ]
    }
   ],
   "source": [
    "#append works best here, even though appending is bad\n",
    "#station,validUTC,levelcode,pressure_mb,height_m,tmpc,dwpc,drct,speed_kts,bearing,range_sm\n",
    "\n",
    "#creating emptly lists\n",
    "station = []\n",
    "validUTC =[]\n",
    "levelcode = []\n",
    "pressure_mb = []\n",
    "height_m = []\n",
    "tmpc = []\n",
    "dwpc = []\n",
    "drct = []\n",
    "speed_kts = []\n",
    "bearing = []\n",
    "range_sm = []\n",
    "\n",
    "#loop through each line in sounding, skipping first line which is the header\n",
    "for line in sounding_file[1:]:\n",
    "    #appending to each list the variable \n",
    "    #station is the zero-th column when split by commas \n",
    "    station.append(line.split(\",\")[0])\n",
    "    validUTC.append(line.split(\",\")[1])\n",
    "    levelcode.append(line.split(\",\")[2])\n",
    "    pressure_mb.append(line.split(\",\")[3])\n",
    "    height_m.append(line.split(\",\")[4])\n",
    "    tmpc.append(line.split(\",\")[5])\n",
    "    dwpc.append(line.split(\",\")[6])\n",
    "    drct.append(line.split(\",\")[7])\n",
    "    speed_kts.append(line.split(\",\")[8])\n",
    "    bearing.append(line.split(\",\")[9])\n",
    "    range_sm.append(line.split(\",\")[10].strip())\n",
    "    #added .strip to get rid of new line (\"n/\") character at end of range_sm\n",
    "\n",
    "#print(station)\n",
    "#print(validUTC)\n",
    "#print(levelcode)\n",
    "#print(pressure_mb)\n",
    "#print(height_m)\n",
    "#print(tmpc)\n",
    "#print(dwpc)\n",
    "#print(drct)\n",
    "#print(speed_kts)\n",
    "#print(bearing)\n",
    "print(range_sm)"
   ]
  },
  {
   "cell_type": "markdown",
   "id": "be194c5e",
   "metadata": {},
   "source": [
    "### SUBSET TO MANDATORY AND SIGNIFICANT LEVELS ###\n",
    "\n",
    "#### This should remove missing data ####\n",
    "\n",
    "| Level Code | Meaning |\n",
    "| --- | :- |\n",
    "| 4 | mandatory |\n",
    "| 5 | significant |\n",
    "| 6 | wind level (PPBB) |\n",
    "| 7 | tropopause level |\n",
    "| 8 | maximum wind level |\n",
    "| 9 | surface level |"
   ]
  },
  {
   "cell_type": "code",
   "execution_count": 17,
   "id": "0095a064",
   "metadata": {},
   "outputs": [
    {
     "name": "stdout",
     "output_type": "stream",
     "text": [
      "['4', '5', '5', '5', '4', '5', '5', '4', '5', '5', '5', '5', '4', '5', '5', '4', '5', '5', '5', '4', '4', '5', '4', '5', '5', '5', '4', '5', '5', '5', '5', '5', '5', '4', '5', '5', '5', '5', '5', '4', '5', '5', '4', '5', '5', '5', '4', '5', '4', '4', '5']\n"
     ]
    }
   ],
   "source": [
    "#creating empty list to hold values from mandatory and significant station levels \n",
    "station_subset = []\n",
    "validUTC_subset = []\n",
    "levelcode_subset = []\n",
    "pressure_mb_subset = []\n",
    "height_m_subset = []\n",
    "tmpc_subset = []\n",
    "dwpc_subset = []\n",
    "drct_subset = []\n",
    "speed_kts_subset = []\n",
    "bearing_subset = []\n",
    "range_sm_subset = []\n",
    "\n",
    "#looping through each level in sounding to check if it is a mandatory or significant level\n",
    "#we are doing this by looping through the indicies\n",
    "for i in range(len(levelcode)):\n",
    "    #if level code is mandatory or significant \n",
    "    if levelcode[i] == '4' or levelcode[i] == '5':\n",
    "        #add variable at each level to list\n",
    "        station_subset.append(station[i])\n",
    "        validUTC_subset.append(validUTC[i])\n",
    "        levelcode_subset.append(levelcode[i])\n",
    "        pressure_mb_subset.append(pressure_mb[i])\n",
    "        height_m_subset.append(height_m[i])\n",
    "        tmpc_subset.append(tmpc[i])\n",
    "        dwpc_subset.append(dwpc[i])\n",
    "        drct_subset.append(drct[i])\n",
    "        speed_kts_subset.append(speed_kts[i])\n",
    "        bearing_subset.append(bearing[i])\n",
    "        range_sm_subset.append(range_sm[i])\n",
    "        \n",
    "#print(station_subset) #str\n",
    "#print(validUTC_subset) #str\n",
    "print(levelcode_subset) #int\n",
    "#print(pressure_mb_subset) #float\n",
    "#print(height_m_subset) #float\n",
    "#print(tmpc_subset) #float\n",
    "#print(dwpc_subset) #float\n",
    "#print(drct_subset) #float\n",
    "#print(speed_kts_subset) #float\n",
    "#print(bearing_subset) #float\n",
    "#print(range_sm_subset) #float"
   ]
  },
  {
   "cell_type": "markdown",
   "id": "0672b7d3",
   "metadata": {},
   "source": [
    "### CONVERT STRINGS ###\n",
    "Some data needs to be floating point numbers, some needs to be integers, some should stay as strings.\n",
    "\n",
    "Hint: You can leave the UTC time as a string and anything that needs NaNs will be a floating point."
   ]
  },
  {
   "cell_type": "code",
   "execution_count": 20,
   "id": "99b298a4",
   "metadata": {},
   "outputs": [
    {
     "ename": "ValueError",
     "evalue": "could not convert string to float: 'M'",
     "output_type": "error",
     "traceback": [
      "\u001b[0;31m---------------------------------------------------------------------------\u001b[0m",
      "\u001b[0;31mValueError\u001b[0m                                Traceback (most recent call last)",
      "Cell \u001b[0;32mIn[20], line 17\u001b[0m\n\u001b[1;32m     15\u001b[0m pressure_mb_subset[i] \u001b[38;5;241m=\u001b[39m \u001b[38;5;28mfloat\u001b[39m(pressure_mb_subset[i])\n\u001b[1;32m     16\u001b[0m height_m_subset[i] \u001b[38;5;241m=\u001b[39m \u001b[38;5;28mfloat\u001b[39m(height_m_subset[i])\n\u001b[0;32m---> 17\u001b[0m tmpc_subset[i] \u001b[38;5;241m=\u001b[39m \u001b[38;5;28mfloat\u001b[39m(tmpc_subset[i])\n\u001b[1;32m     18\u001b[0m dwpc_subset[i] \u001b[38;5;241m=\u001b[39m \u001b[38;5;28mfloat\u001b[39m(dwpc_subset[i])\n\u001b[1;32m     19\u001b[0m drct_subset[i] \u001b[38;5;241m=\u001b[39m \u001b[38;5;28mfloat\u001b[39m(drct_subset[i])\n",
      "\u001b[0;31mValueError\u001b[0m: could not convert string to float: 'M'"
     ]
    }
   ],
   "source": [
    "#loop through each level in subset of 4s and 5s\n",
    "for i in range(len(levelcode_subset)):\n",
    "    #changing the items to either a integer or a floating point number\n",
    "    #leave station and valid UTC as strings\n",
    "    levelcode_subset[i] = int(levelcode_subset[i])\n",
    "    #if levelcode_subset[i] == 'M':\n",
    "        #levelcode_subset[i] = float('NaN')\n",
    "    #else:\n",
    "        #levelcode_subset[i] = int(levelcode_subset[i])\n",
    "    if pressure_mb_subset[i] == 'M':\n",
    "        pressure_mb_subset[i] = float('NaN')\n",
    "    else:\n",
    "        pressure_mb_subset[i] = float(pressure_mb_subset[i])\n",
    "    if height_m_subset[i] == 'M':\n",
    "        height_m_subset[i] = float('NaN')\n",
    "    else:\n",
    "        height_m_subset[i] = float(height_m_subset[i])\n",
    "   if height_m_subset[i] == 'M':\n",
    "        height_m_subset[i] = float('NaN')\n",
    "    else:\n",
    "        height_m_subset[i] = float(height_m_subset[i]) \n",
    "    \n",
    "    height_m_subset[i] = float(height_m_subset[i])\n",
    "    tmpc_subset[i] = float(tmpc_subset[i])\n",
    "    dwpc_subset[i] = float(dwpc_subset[i])\n",
    "    drct_subset[i] = float(drct_subset[i])\n",
    "    speed_kts_subset[i] = float(speed_kts_subset[i])\n",
    "    bearing_subset[i] = float(bearing_subset[i])\n",
    "    range_sm_subset[i] = float(range_sm_subset[i])\n",
    "\n"
   ]
  },
  {
   "cell_type": "markdown",
   "id": "550558da",
   "metadata": {},
   "source": [
    "### ADD UNITS ###\n",
    "Add units using metpy.\n",
    "\n",
    "Make sure to identify which variables need units.\n",
    "\n",
    "https://unidata.github.io/MetPy/latest/tutorials/unit_tutorial.html"
   ]
  },
  {
   "cell_type": "code",
   "execution_count": null,
   "id": "d759caa8",
   "metadata": {},
   "outputs": [],
   "source": []
  },
  {
   "cell_type": "markdown",
   "id": "2de14125",
   "metadata": {},
   "source": [
    "### CONVERT WINDS TO U,V COMPONENTS ###\n",
    "For this, we will be using the metpy.calc.wind_components() function.  This has been imported as wind_components(). \n",
    "\n",
    "https://unidata.github.io/MetPy/latest/api/generated/metpy.calc.wind_components.html\n",
    "\n",
    "Please see the website above to understand how this function works."
   ]
  },
  {
   "cell_type": "code",
   "execution_count": null,
   "id": "f439cc83",
   "metadata": {},
   "outputs": [],
   "source": []
  },
  {
   "cell_type": "markdown",
   "id": "1a8467cf",
   "metadata": {},
   "source": [
    "### CONVERT U,V WINDS TO M/S ###"
   ]
  },
  {
   "cell_type": "code",
   "execution_count": null,
   "id": "9ba4b1b9",
   "metadata": {},
   "outputs": [],
   "source": []
  },
  {
   "cell_type": "markdown",
   "id": "b93037f8",
   "metadata": {},
   "source": [
    "### PRINT DATA ###\n",
    "Print the sounding location and the time of the sounding.\n",
    "\n",
    "Then for each 4 or 5 level-code level, print the pressure (in mb), height (in meters), temperature (in degrees Celsius), dewpoint temperature (in degrees Celsius), u and v wind components (in m/s) with commas separating each value.  Make sure to include units."
   ]
  },
  {
   "cell_type": "code",
   "execution_count": null,
   "id": "5d171fd1",
   "metadata": {},
   "outputs": [],
   "source": []
  },
  {
   "cell_type": "markdown",
   "id": "4217c837",
   "metadata": {},
   "source": [
    "### SAVE TO CSV FILE ###\n",
    "Save to CSV without units.  The CSV file should be named KBIS_sounding.csv. Include the following header:\n",
    "\n",
    "{STATION} - {VALID UTC}<br>\n",
    "pressure[mb],height[m],temperature[degC],dewpoint[degC],u-wind[m/s],v-wind[m/s]\n",
    "\n",
    "Make sure that the winds are limited to 2 decimal places."
   ]
  },
  {
   "cell_type": "code",
   "execution_count": null,
   "id": "0a123e09",
   "metadata": {},
   "outputs": [],
   "source": []
  },
  {
   "cell_type": "markdown",
   "id": "cccc9432",
   "metadata": {},
   "source": [
    "### OPEN THE CSV FILE IN NUMPY ###\n",
    "\n",
    "Here, we are going to use the numpy genfromtxt() function - np.genfromtxt()\n",
    "\n",
    "https://numpy.org/doc/stable/reference/generated/numpy.genfromtxt.html\n",
    "\n",
    "use the names press,height,temp,dwpt,u,v"
   ]
  },
  {
   "cell_type": "code",
   "execution_count": null,
   "id": "0db560cc",
   "metadata": {},
   "outputs": [],
   "source": []
  },
  {
   "cell_type": "markdown",
   "id": "717119e8",
   "metadata": {},
   "source": [
    "### RUN THE CELL BELOW ###\n",
    "If the code above was correct, it should print out the pressure as an array, then temperature as an array, and finally, u-wind component as an array - all with units.\n",
    "\n",
    "Note that the units are now outside the array instead of applied to each element as they were in the list."
   ]
  },
  {
   "cell_type": "code",
   "execution_count": null,
   "id": "2d50731a",
   "metadata": {},
   "outputs": [],
   "source": []
  },
  {
   "cell_type": "markdown",
   "id": "c73a0ad7",
   "metadata": {},
   "source": [
    "### OPEN THE CSV FILE IN PANDAS ###\n",
    "Now we are going to open the CSV file into a pandas dataframe.\n",
    "\n",
    "Dataframes are somewhat like arrays but a bit more complicated.\n",
    "\n",
    "Here, we will use the pandas.read_csv() function - pd.read_csv()\n",
    "\n",
    "Use the same names as above.\n",
    "\n",
    "https://pandas.pydata.org/docs/reference/api/pandas.read_csv.html"
   ]
  },
  {
   "cell_type": "code",
   "execution_count": null,
   "id": "3299a386",
   "metadata": {},
   "outputs": [],
   "source": []
  },
  {
   "cell_type": "markdown",
   "id": "6eeb0151",
   "metadata": {},
   "source": [
    "### NOW PRINT THE DATAFRAME ###\n",
    "If done correctly, you should see the column names auto-populated."
   ]
  },
  {
   "cell_type": "code",
   "execution_count": null,
   "id": "f053bec3",
   "metadata": {},
   "outputs": [],
   "source": []
  }
 ],
 "metadata": {
  "kernelspec": {
   "display_name": "Python 3 (ipykernel)",
   "language": "python",
   "name": "python3"
  },
  "language_info": {
   "codemirror_mode": {
    "name": "ipython",
    "version": 3
   },
   "file_extension": ".py",
   "mimetype": "text/x-python",
   "name": "python",
   "nbconvert_exporter": "python",
   "pygments_lexer": "ipython3",
   "version": "3.11.7"
  }
 },
 "nbformat": 4,
 "nbformat_minor": 5
}
