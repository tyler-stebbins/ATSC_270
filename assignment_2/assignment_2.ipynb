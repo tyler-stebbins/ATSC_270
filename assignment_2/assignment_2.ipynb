{
 "cells": [
  {
   "cell_type": "markdown",
   "id": "bd61f82f",
   "metadata": {},
   "source": [
    "# ASSIGNMENT #2 - ATMOSPHERIC SOUNDINGS #\n",
    "Due: 04 February 2023 @ 11:59p"
   ]
  },
  {
   "cell_type": "markdown",
   "id": "816b3dd4",
   "metadata": {},
   "source": [
    "Purpose:\\\n",
    "The purpose of this assignment is to become familiar with reading in text data, storing the data in arrays, applying metpy units, and outputting the data into easily read files.\n",
    "\n",
    "Overview:\\\n",
    "In this assignment you will read in atmospheric sounding data and apply units to the data and print the data to a text file and a comma-separated value (csv) text file.\n",
    "\n",
    "\n",
    "| | UPDATE TO YOUR INFORMATION | \n",
    "| :- | :- |\n",
    "| Created By | Tyler Stebbins |\n",
    "| Creation Date | 22 January 2024 |\n",
    "| Course | ATSC 270 - Computer Concepts in Meteorology |"
   ]
  },
  {
   "cell_type": "code",
   "execution_count": 1,
   "id": "eb870142",
   "metadata": {},
   "outputs": [],
   "source": [
    "### UPDATE TO YOUR INFORMATION ###\n",
    "#information allowing anyone with the code to print the author and contact information\n",
    "__author__    = \"Tyler Stebbins\"\n",
    "__contact__   = \"tyler.stebbins@und.edu\""
   ]
  },
  {
   "cell_type": "markdown",
   "id": "7dec3f1b",
   "metadata": {},
   "source": [
    "### IMPORT REQUIRED LIBRARIES ###"
   ]
  },
  {
   "cell_type": "code",
   "execution_count": 35,
   "id": "b4b5cb45",
   "metadata": {},
   "outputs": [],
   "source": [
    "import numpy as np\n",
    "from metpy.calc import wind_components\n",
    "from metpy.units import units\n",
    "import pandas as pd"
   ]
  },
  {
   "cell_type": "markdown",
   "id": "1df8fe8f",
   "metadata": {},
   "source": [
    "### OPEN SOUNDING FILE ###"
   ]
  },
  {
   "cell_type": "code",
   "execution_count": 36,
   "id": "2a62a4f1",
   "metadata": {},
   "outputs": [],
   "source": [
    "#open file\n",
    "sounding_file = open(\"KBIS_2009011512.txt\",\"r\").readlines()\n",
    "\n"
   ]
  },
  {
   "cell_type": "markdown",
   "id": "133b2f64",
   "metadata": {},
   "source": [
    "### READ IN DATA INTO LISTS ###"
   ]
  },
  {
   "cell_type": "code",
   "execution_count": 37,
   "id": "65907f20",
   "metadata": {},
   "outputs": [
    {
     "name": "stdout",
     "output_type": "stream",
     "text": [
      "['M', '0.0', 'M', 'M', 'M', '0.0', '0.0', 'M', '0.0', 'M', '0.0', '0.0', '0.0', 'M', '1.0', 'M', 'M', '1.0', 'M', '2.0', '3.0', 'M', '5.0', '7.0', '8.0', 'M', '9.0', 'M', '13.0', 'M', 'M', '17.0', '18.0', '22.0', '30.0', '32.0', '34.0', '34.0', 'M', '38.0', 'M', 'M', 'M', '46.0', '46.0', 'M', 'M', 'M', 'M', 'M', '54.0', 'M', '56.0', 'M', 'M', 'M', '67.0', 'M', 'M', '70.0', 'M', 'M', '78.0', '80.0', 'M', '82.0', 'M', '89.0', 'M', '92.0', 'M', '98.0', '100.0', '108.0', '109.0', '109.0', '117.0', '122.0', '123.0', 'M']\n"
     ]
    }
   ],
   "source": [
    "#append works best here, even though appending is bad\n",
    "#station,validUTC,levelcode,pressure_mb,height_m,tmpc,dwpc,drct,speed_kts,bearing,range_sm\n",
    "\n",
    "#creating emptly lists\n",
    "station = []\n",
    "validUTC =[]\n",
    "levelcode = []\n",
    "pressure_mb = []\n",
    "height_m = []\n",
    "tmpc = []\n",
    "dwpc = []\n",
    "drct = []\n",
    "speed_kts = []\n",
    "bearing = []\n",
    "range_sm = []\n",
    "\n",
    "#loop through each line in sounding, skipping first line which is the header\n",
    "for line in sounding_file[1:]:\n",
    "    #appending to each list the variable \n",
    "    #station is the zero-th column when split by commas \n",
    "    station.append(line.split(\",\")[0])\n",
    "    validUTC.append(line.split(\",\")[1])\n",
    "    levelcode.append(line.split(\",\")[2])\n",
    "    pressure_mb.append(line.split(\",\")[3])\n",
    "    height_m.append(line.split(\",\")[4])\n",
    "    tmpc.append(line.split(\",\")[5])\n",
    "    dwpc.append(line.split(\",\")[6])\n",
    "    drct.append(line.split(\",\")[7])\n",
    "    speed_kts.append(line.split(\",\")[8])\n",
    "    bearing.append(line.split(\",\")[9])\n",
    "    range_sm.append(line.split(\",\")[10].strip())\n",
    "    #added .strip to get rid of new line (\"n/\") character at end of range_sm\n",
    "\n",
    "#print(station)\n",
    "#print(validUTC)\n",
    "#print(levelcode)\n",
    "#print(pressure_mb)\n",
    "#print(height_m)\n",
    "#print(tmpc)\n",
    "#print(dwpc)\n",
    "#print(drct)\n",
    "#print(speed_kts)\n",
    "#print(bearing)\n",
    "print(range_sm)"
   ]
  },
  {
   "cell_type": "markdown",
   "id": "be194c5e",
   "metadata": {},
   "source": [
    "### SUBSET TO MANDATORY AND SIGNIFICANT LEVELS ###\n",
    "\n",
    "#### This should remove missing data ####\n",
    "\n",
    "| Level Code | Meaning |\n",
    "| --- | :- |\n",
    "| 4 | mandatory |\n",
    "| 5 | significant |\n",
    "| 6 | wind level (PPBB) |\n",
    "| 7 | tropopause level |\n",
    "| 8 | maximum wind level |\n",
    "| 9 | surface level |"
   ]
  },
  {
   "cell_type": "code",
   "execution_count": 38,
   "id": "0095a064",
   "metadata": {},
   "outputs": [
    {
     "name": "stdout",
     "output_type": "stream",
     "text": [
      "['4', '5', '5', '5', '4', '5', '5', '4', '5', '5', '5', '5', '4', '5', '5', '4', '5', '5', '5', '4', '4', '5', '4', '5', '5', '5', '4', '5', '5', '5', '5', '5', '5', '4', '5', '5', '5', '5', '5', '4', '5', '5', '4', '5', '5', '5', '4', '5', '4', '4', '5']\n"
     ]
    }
   ],
   "source": [
    "#creating empty list to hold values from mandatory and significant station levels \n",
    "station_subset = []\n",
    "validUTC_subset = []\n",
    "levelcode_subset = []\n",
    "pressure_mb_subset = []\n",
    "height_m_subset = []\n",
    "tmpc_subset = []\n",
    "dwpc_subset = []\n",
    "drct_subset = []\n",
    "speed_kts_subset = []\n",
    "bearing_subset = []\n",
    "range_sm_subset = []\n",
    "\n",
    "#looping through each level in sounding to check if it is a mandatory or significant level\n",
    "#we are doing this by looping through the indicies\n",
    "for i in range(len(levelcode)):\n",
    "    #if level code is mandatory or significant \n",
    "    if levelcode[i] == '4' or levelcode[i] == '5':\n",
    "        #add variable at each level to list\n",
    "        station_subset.append(station[i])\n",
    "        validUTC_subset.append(validUTC[i])\n",
    "        levelcode_subset.append(levelcode[i])\n",
    "        pressure_mb_subset.append(pressure_mb[i])\n",
    "        height_m_subset.append(height_m[i])\n",
    "        tmpc_subset.append(tmpc[i])\n",
    "        dwpc_subset.append(dwpc[i])\n",
    "        drct_subset.append(drct[i])\n",
    "        speed_kts_subset.append(speed_kts[i])\n",
    "        bearing_subset.append(bearing[i])\n",
    "        range_sm_subset.append(range_sm[i])\n",
    "        \n",
    "#print(station_subset) #str\n",
    "#print(validUTC_subset) #str\n",
    "print(levelcode_subset) #int\n",
    "#print(pressure_mb_subset) #float\n",
    "#print(height_m_subset) #float\n",
    "#print(tmpc_subset) #float\n",
    "#print(dwpc_subset) #float\n",
    "#print(drct_subset) #float\n",
    "#print(speed_kts_subset) #float\n",
    "#print(bearing_subset) #float\n",
    "#print(range_sm_subset) #float"
   ]
  },
  {
   "cell_type": "markdown",
   "id": "0672b7d3",
   "metadata": {},
   "source": [
    "### CONVERT STRINGS ###\n",
    "Some data needs to be floating point numbers, some needs to be integers, some should stay as strings.\n",
    "\n",
    "Hint: You can leave the UTC time as a string and anything that needs NaNs will be a floating point."
   ]
  },
  {
   "cell_type": "code",
   "execution_count": 39,
   "id": "99b298a4",
   "metadata": {},
   "outputs": [
    {
     "name": "stdout",
     "output_type": "stream",
     "text": [
      "[nan, nan, nan, nan, 6.0, nan, nan, 10.0, nan, nan, nan, nan, 36.0, nan, nan, 73.0, nan, nan, nan, 112.0, 125.0, nan, 117.0, nan, nan, nan, 99.0, nan, nan, nan, nan, nan, nan, 101.0, nan, nan, nan, nan, nan, 88.0, nan, nan, 97.0, nan, nan, nan, 108.0, nan, 115.0, 111.0, nan]\n"
     ]
    }
   ],
   "source": [
    "#loop through each level in subset of 4s and 5s\n",
    "for i in range(len(levelcode_subset)):\n",
    "    #changing the items to either a integer or a floating point number\n",
    "    #leave station and valid UTC as strings\n",
    "    levelcode_subset[i] = int(levelcode_subset[i])\n",
    "    \n",
    "    if pressure_mb_subset[i] == 'M':\n",
    "        pressure_mb_subset[i] = float('NaN')\n",
    "    else:\n",
    "        pressure_mb_subset[i] = float(pressure_mb_subset[i])\n",
    "    if height_m_subset[i] == 'M':\n",
    "        height_m_subset[i] = float('NaN')\n",
    "    else:\n",
    "        height_m_subset[i] = float(height_m_subset[i])\n",
    "    if tmpc_subset[i] == 'M':\n",
    "        tmpc_subset[i] = float('NaN')\n",
    "    else:\n",
    "        tmpc_subset[i] = float(tmpc_subset[i]) \n",
    "    if dwpc_subset[i] == 'M':\n",
    "        dwpc_subset[i] = float('NaN')\n",
    "    else:\n",
    "        dwpc_subset[i] = float(dwpc_subset[i])\n",
    "    if drct_subset[i] == 'M':\n",
    "        drct_subset[i] = float('NaN')\n",
    "    else:\n",
    "        drct_subset[i] = float(drct_subset[i])\n",
    "    if speed_kts_subset[i] == 'M':\n",
    "        speed_kts_subset[i] = float('NaN')\n",
    "    else:\n",
    "        speed_kts_subset[i] = float(speed_kts_subset[i])\n",
    "    if bearing_subset[i] == 'M':\n",
    "        bearing_subset[i] = float('NaN')\n",
    "    else:\n",
    "        bearing_subset[i] = float(height_m_subset[i])\n",
    "    if range_sm_subset[i] == 'M':\n",
    "        range_sm_subset[i] = float('NaN')\n",
    "    else:\n",
    "        range_sm_subset[i] = float(height_m_subset[i])\n",
    "\n",
    "print(speed_kts_subset)\n",
    "\n"
   ]
  },
  {
   "cell_type": "markdown",
   "id": "550558da",
   "metadata": {},
   "source": [
    "### ADD UNITS ###\n",
    "Add units using metpy.\n",
    "\n",
    "Make sure to identify which variables need units.\n",
    "\n",
    "https://unidata.github.io/MetPy/latest/tutorials/unit_tutorial.html"
   ]
  },
  {
   "cell_type": "code",
   "execution_count": 40,
   "id": "d759caa8",
   "metadata": {},
   "outputs": [
    {
     "name": "stdout",
     "output_type": "stream",
     "text": [
      "[nan -28.8 -27.6 -28.7 -28.9 -28.9 -35.3 -35.3 -40.5 -41.1 -41.1 -41.9 -43.3 -43.9 -52.3 -52.5 -52.5 -53.5 -53.7 -54.9 -66.7 -69.1 -69.3 -69.5 -68.7 -68.5 -68.7 -69.7 -69.5 -70.1 -70.7 -70.9 -69.7 -69.9 -70.5 -70.1 -73.5 -72.9 -73.7 -72.7 -72.5 -76.1 -75.9 -75.9 -79.3 -79.1 -78.1 -76.5 -77.9 -79.5 -79.5] degree_Celsius\n"
     ]
    }
   ],
   "source": [
    "#adding units to each list\n",
    "pressure_mb_subset = pressure_mb_subset*units('millibar')\n",
    "height_m_subset = height_m_subset*units('meters')\n",
    "tmpc_subset = tmpc_subset*units('degC')\n",
    "dwpc_subset = dwpc_subset*units('degC')\n",
    "drct_subset = drct_subset*units('degrees')\n",
    "speed_kts_subset = speed_kts_subset*units('knots')\n",
    "bearing_subset = bearing_subset*units('degrees')\n",
    "range_sm_subset = range_sm_subset*units('miles')\n",
    "\n",
    "print(dwpc_subset)"
   ]
  },
  {
   "cell_type": "markdown",
   "id": "2de14125",
   "metadata": {},
   "source": [
    "### CONVERT WINDS TO U,V COMPONENTS ###\n",
    "For this, we will be using the metpy.calc.wind_components() function.  This has been imported as wind_components(). \n",
    "\n",
    "https://unidata.github.io/MetPy/latest/api/generated/metpy.calc.wind_components.html\n",
    "\n",
    "Please see the website above to understand how this function works."
   ]
  },
  {
   "cell_type": "code",
   "execution_count": 41,
   "id": "f439cc83",
   "metadata": {},
   "outputs": [
    {
     "name": "stdout",
     "output_type": "stream",
     "text": [
      "[nan nan nan nan 5.79555495773441 nan nan 5.000000000000004 nan nan nan nan 15.214257422665172 nan nan 30.851133107071043 nan nan nan 38.306256052474886 32.35238063781509 nan 40.016356769103226 nan nan nan 41.83920791232922 nan nan nan nan nan nan 34.54403447589253 nan nan nan nan nan 50.47472639889209 nan nan 68.58935777509512 nan nan nan 69.42106184614627 nan 81.31727983645298 78.4888527117068 nan] knot\n",
      "[nan nan nan nan -1.5529142706151218 nan nan -8.660254037844384 nan nan nan nan -32.6270803333194 nan nan -66.16046845367545 nan nan nan -105.24557352802174 -120.74072828613355 nan -109.94403663195129 nan nan nan -89.72447091662835 nan nan nan nan nan nan -94.90895469937675 nan nan nan nan nan -72.08537989743125 nan nan -68.5893577750951 nan nan nan -82.7327998568496 nan -81.31727983645294 -78.48885271170676 nan] knot\n"
     ]
    }
   ],
   "source": [
    "#using MetPy to gey U and V components of wind\n",
    "u, v = wind_components(speed_kts_subset, drct_subset)\n",
    "print(u)\n",
    "print(v)"
   ]
  },
  {
   "cell_type": "markdown",
   "id": "1a8467cf",
   "metadata": {},
   "source": [
    "### CONVERT U,V WINDS TO M/S ###"
   ]
  },
  {
   "cell_type": "code",
   "execution_count": 43,
   "id": "9ba4b1b9",
   "metadata": {},
   "outputs": [
    {
     "name": "stdout",
     "output_type": "stream",
     "text": [
      "[nan nan nan nan 2.9814910504789247 nan nan 2.5722222222222246 nan nan nan nan 7.82689020743775 nan nan 15.871194031748772 nan nan nan 19.70644061366208 16.643502483675984 nan 20.586192426771994 nan nan nan 21.523948070453812 nan nan nan nan nan nan 17.77098662482027 nan nan nan nan nan 25.966442580763378 nan nan 35.28541405541005 nan nan nan 35.713279594184144 nan 41.83322284919748 40.37815422835583 nan] meter / second\n",
      "[nan nan nan nan -0.7988881192164461 nan nan -4.455219577246611 nan nan nan nan -16.784820215918757 nan nan -34.03588543783526 nan nan nan -54.143000603860074 -62.114396884977594 nan -56.56009884510384 nan nan nan -46.15825559377659 nan nan nan nan nan nan -48.82538447312382 nan nan nan nan nan -37.083923213900746 nan nan -35.28541405541004 nan nan nan -42.56142925969041 nan -41.83322284919746 -40.37815422835581 nan] meter / second\n"
     ]
    }
   ],
   "source": [
    "#converting U and V components to meters per second\n",
    "u = u.to('m/s')\n",
    "v = v.to('m/s')\n",
    "\n",
    "print (u)\n",
    "print (v)"
   ]
  },
  {
   "cell_type": "markdown",
   "id": "b93037f8",
   "metadata": {},
   "source": [
    "### PRINT DATA ###\n",
    "Print the sounding location and the time of the sounding.\n",
    "\n",
    "Then for each 4 or 5 level-code level, print the pressure (in mb), height (in meters), temperature (in degrees Celsius), dewpoint temperature (in degrees Celsius), u and v wind components (in m/s) with commas separating each value.  Make sure to include units."
   ]
  },
  {
   "cell_type": "code",
   "execution_count": 44,
   "id": "8150b11e-b4a9-4000-b56b-ba709a76009c",
   "metadata": {},
   "outputs": [
    {
     "name": "stdout",
     "output_type": "stream",
     "text": [
      "KBIS, 2009-01-15 12:00:00\n",
      "1000.0 millibar, 355.0 meter, nan degree_Celsius, nan degree_Celsius, nan meter / second, nan meter / second\n",
      "959.0 millibar, 649.0 meter, -25.3 degree_Celsius, -28.8 degree_Celsius, nan meter / second, nan meter / second\n",
      "949.0 millibar, 726.0 meter, -24.1 degree_Celsius, -27.6 degree_Celsius, nan meter / second, nan meter / second\n",
      "936.0 millibar, 826.0 meter, -22.7 degree_Celsius, -28.7 degree_Celsius, nan meter / second, nan meter / second\n",
      "925.0 millibar, 915.0 meter, -22.9 degree_Celsius, -28.9 degree_Celsius, 2.9814910504789247 meter / second, -0.7988881192164461 meter / second\n",
      "898.0 millibar, 1131.0 meter, -22.9 degree_Celsius, -28.9 degree_Celsius, nan meter / second, nan meter / second\n",
      "851.0 millibar, 1526.0 meter, -21.3 degree_Celsius, -35.3 degree_Celsius, nan meter / second, nan meter / second\n",
      "850.0 millibar, 1536.0 meter, -21.3 degree_Celsius, -35.3 degree_Celsius, 2.5722222222222246 meter / second, -4.455219577246611 meter / second\n",
      "763.0 millibar, 2328.0 meter, -22.5 degree_Celsius, -40.5 degree_Celsius, nan meter / second, nan meter / second\n",
      "730.0 millibar, 2651.0 meter, -24.1 degree_Celsius, -41.1 degree_Celsius, nan meter / second, nan meter / second\n",
      "721.0 millibar, 2741.0 meter, -23.1 degree_Celsius, -41.1 degree_Celsius, nan meter / second, nan meter / second\n",
      "707.0 millibar, 2884.0 meter, -22.9 degree_Celsius, -41.9 degree_Celsius, nan meter / second, nan meter / second\n",
      "700.0 millibar, 2961.0 meter, -23.3 degree_Celsius, -43.3 degree_Celsius, 7.82689020743775 meter / second, -16.784820215918757 meter / second\n",
      "610.0 millibar, 3960.0 meter, -25.9 degree_Celsius, -43.9 degree_Celsius, nan meter / second, nan meter / second\n",
      "510.0 millibar, 5231.0 meter, -34.3 degree_Celsius, -52.3 degree_Celsius, nan meter / second, nan meter / second\n",
      "500.0 millibar, 5370.0 meter, -34.5 degree_Celsius, -52.5 degree_Celsius, 15.871194031748772 meter / second, -34.03588543783526 meter / second\n",
      "463.0 millibar, 5906.0 meter, -34.5 degree_Celsius, -52.5 degree_Celsius, nan meter / second, nan meter / second\n",
      "423.0 millibar, 6530.0 meter, -38.5 degree_Celsius, -53.5 degree_Celsius, nan meter / second, nan meter / second\n",
      "409.0 millibar, 6761.0 meter, -38.7 degree_Celsius, -53.7 degree_Celsius, nan meter / second, nan meter / second\n",
      "400.0 millibar, 6920.0 meter, -39.9 degree_Celsius, -54.9 degree_Celsius, 19.70644061366208 meter / second, -54.143000603860074 meter / second\n",
      "300.0 millibar, 8820.0 meter, -54.7 degree_Celsius, -66.7 degree_Celsius, 16.643502483675984 meter / second, -62.114396884977594 meter / second\n",
      "255.0 millibar, 9842.0 meter, -58.1 degree_Celsius, -69.1 degree_Celsius, nan meter / second, nan meter / second\n",
      "250.0 millibar, 9970.0 meter, -58.3 degree_Celsius, -69.3 degree_Celsius, 20.586192426771994 meter / second, -56.56009884510384 meter / second\n",
      "228.0 millibar, 10548.0 meter, -58.5 degree_Celsius, -69.5 degree_Celsius, nan meter / second, nan meter / second\n",
      "214.0 millibar, 10946.0 meter, -57.7 degree_Celsius, -68.7 degree_Celsius, nan meter / second, nan meter / second\n",
      "209.0 millibar, 11095.0 meter, -56.5 degree_Celsius, -68.5 degree_Celsius, nan meter / second, nan meter / second\n",
      "200.0 millibar, 11380.0 meter, -56.7 degree_Celsius, -68.7 degree_Celsius, 21.523948070453812 meter / second, -46.15825559377659 meter / second\n",
      "192.0 millibar, 11637.0 meter, -57.7 degree_Celsius, -69.7 degree_Celsius, nan meter / second, nan meter / second\n",
      "183.0 millibar, 11939.0 meter, -57.5 degree_Celsius, -69.5 degree_Celsius, nan meter / second, nan meter / second\n",
      "175.0 millibar, 12219.0 meter, -59.1 degree_Celsius, -70.1 degree_Celsius, nan meter / second, nan meter / second\n",
      "168.0 millibar, 12474.0 meter, -59.7 degree_Celsius, -70.7 degree_Celsius, nan meter / second, nan meter / second\n",
      "163.0 millibar, 12662.0 meter, -59.9 degree_Celsius, -70.9 degree_Celsius, nan meter / second, nan meter / second\n",
      "156.0 millibar, 12936.0 meter, -58.7 degree_Celsius, -69.7 degree_Celsius, nan meter / second, nan meter / second\n",
      "150.0 millibar, 13190.0 meter, -58.9 degree_Celsius, -69.9 degree_Celsius, 17.77098662482027 meter / second, -48.82538447312382 meter / second\n",
      "141.0 millibar, 13577.0 meter, -59.5 degree_Celsius, -70.5 degree_Celsius, nan meter / second, nan meter / second\n",
      "130.0 millibar, 14084.0 meter, -59.1 degree_Celsius, -70.1 degree_Celsius, nan meter / second, nan meter / second\n",
      "111.0 millibar, 15064.0 meter, -62.5 degree_Celsius, -73.5 degree_Celsius, nan meter / second, nan meter / second\n",
      "106.0 millibar, 15348.0 meter, -61.9 degree_Celsius, -72.9 degree_Celsius, nan meter / second, nan meter / second\n",
      "104.0 millibar, 15465.0 meter, -62.7 degree_Celsius, -73.7 degree_Celsius, nan meter / second, nan meter / second\n",
      "100.0 millibar, 15710.0 meter, -61.7 degree_Celsius, -72.7 degree_Celsius, 25.966442580763378 meter / second, -37.083923213900746 meter / second\n",
      "91.5 millibar, 16259.0 meter, -61.5 degree_Celsius, -72.5 degree_Celsius, nan meter / second, nan meter / second\n",
      "78.4 millibar, 17204.0 meter, -66.1 degree_Celsius, -76.1 degree_Celsius, nan meter / second, nan meter / second\n",
      "70.0 millibar, 17900.0 meter, -65.9 degree_Celsius, -75.9 degree_Celsius, 35.28541405541005 meter / second, -35.28541405541004 meter / second\n",
      "68.6 millibar, 18022.0 meter, -65.9 degree_Celsius, -75.9 degree_Celsius, nan meter / second, nan meter / second\n",
      "57.6 millibar, 19071.0 meter, -69.3 degree_Celsius, -79.3 degree_Celsius, nan meter / second, nan meter / second\n",
      "52.0 millibar, 19680.0 meter, -69.1 degree_Celsius, -79.1 degree_Celsius, nan meter / second, nan meter / second\n",
      "50.0 millibar, 19920.0 meter, -68.1 degree_Celsius, -78.1 degree_Celsius, 35.713279594184144 meter / second, -42.56142925969041 meter / second\n",
      "47.2 millibar, 20266.0 meter, -66.5 degree_Celsius, -76.5 degree_Celsius, nan meter / second, nan meter / second\n",
      "30.0 millibar, 23000.0 meter, -67.9 degree_Celsius, -77.9 degree_Celsius, 41.83322284919748 meter / second, -41.83322284919746 meter / second\n",
      "20.0 millibar, 25420.0 meter, -69.5 degree_Celsius, -79.5 degree_Celsius, 40.37815422835583 meter / second, -40.37815422835581 meter / second\n",
      "19.9 millibar, 25450.0 meter, -69.5 degree_Celsius, -79.5 degree_Celsius, nan meter / second, nan meter / second\n"
     ]
    }
   ],
   "source": [
    "print(f\"{station[0]}, {validUTC[0]}\")\n",
    "for i in range(len(pressure_mb_subset)):\n",
    "    print(f\"{pressure_mb_subset[i]}, {height_m_subset[i]}, {tmpc_subset[i]}, {dwpc_subset[i]}, {u[i]}, {v[i]}\")"
   ]
  },
  {
   "cell_type": "markdown",
   "id": "4217c837",
   "metadata": {},
   "source": [
    "### SAVE TO CSV FILE ###\n",
    "Save to CSV without units.  The CSV file should be named KBIS_sounding.csv. Include the following header:\n",
    "\n",
    "{STATION} - {VALID UTC}<br>\n",
    "pressure[mb],height[m],temperature[degC],dewpoint[degC],u-wind[m/s],v-wind[m/s]\n",
    "\n",
    "Make sure that the winds are limited to 2 decimal places."
   ]
  },
  {
   "cell_type": "code",
   "execution_count": 50,
   "id": "0a123e09",
   "metadata": {},
   "outputs": [],
   "source": [
    "with open('KBIS_sounding.csv', 'w') as outfile:\n",
    "    #write to code\n",
    "    outfile.write(f\"{station[0]} - {validUTC[0]}\\n\")\n",
    "    outfile.write(f\"pressure[mb],height[m],temperature[degC],dewpoint[degC],u-wind[m/s],v-wind[m/s]\\n\")\n",
    "\n",
    "\n",
    "outfile.close()"
   ]
  },
  {
   "cell_type": "markdown",
   "id": "cccc9432",
   "metadata": {},
   "source": [
    "### OPEN THE CSV FILE IN NUMPY ###\n",
    "\n",
    "Here, we are going to use the numpy genfromtxt() function - np.genfromtxt()\n",
    "\n",
    "https://numpy.org/doc/stable/reference/generated/numpy.genfromtxt.html\n",
    "\n",
    "use the names press,height,temp,dwpt,u,v"
   ]
  },
  {
   "cell_type": "code",
   "execution_count": null,
   "id": "0db560cc",
   "metadata": {},
   "outputs": [],
   "source": []
  },
  {
   "cell_type": "markdown",
   "id": "717119e8",
   "metadata": {},
   "source": [
    "### RUN THE CELL BELOW ###\n",
    "If the code above was correct, it should print out the pressure as an array, then temperature as an array, and finally, u-wind component as an array - all with units.\n",
    "\n",
    "Note that the units are now outside the array instead of applied to each element as they were in the list."
   ]
  },
  {
   "cell_type": "code",
   "execution_count": null,
   "id": "2d50731a",
   "metadata": {},
   "outputs": [],
   "source": []
  },
  {
   "cell_type": "markdown",
   "id": "c73a0ad7",
   "metadata": {},
   "source": [
    "### OPEN THE CSV FILE IN PANDAS ###\n",
    "Now we are going to open the CSV file into a pandas dataframe.\n",
    "\n",
    "Dataframes are somewhat like arrays but a bit more complicated.\n",
    "\n",
    "Here, we will use the pandas.read_csv() function - pd.read_csv()\n",
    "\n",
    "Use the same names as above.\n",
    "\n",
    "https://pandas.pydata.org/docs/reference/api/pandas.read_csv.html"
   ]
  },
  {
   "cell_type": "code",
   "execution_count": null,
   "id": "3299a386",
   "metadata": {},
   "outputs": [],
   "source": []
  },
  {
   "cell_type": "markdown",
   "id": "6eeb0151",
   "metadata": {},
   "source": [
    "### NOW PRINT THE DATAFRAME ###\n",
    "If done correctly, you should see the column names auto-populated."
   ]
  },
  {
   "cell_type": "code",
   "execution_count": null,
   "id": "f053bec3",
   "metadata": {},
   "outputs": [],
   "source": []
  }
 ],
 "metadata": {
  "kernelspec": {
   "display_name": "Python 3 (ipykernel)",
   "language": "python",
   "name": "python3"
  },
  "language_info": {
   "codemirror_mode": {
    "name": "ipython",
    "version": 3
   },
   "file_extension": ".py",
   "mimetype": "text/x-python",
   "name": "python",
   "nbconvert_exporter": "python",
   "pygments_lexer": "ipython3",
   "version": "3.11.7"
  }
 },
 "nbformat": 4,
 "nbformat_minor": 5
}
