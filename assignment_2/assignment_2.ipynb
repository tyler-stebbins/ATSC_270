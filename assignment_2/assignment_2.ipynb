{
 "cells": [
  {
   "cell_type": "markdown",
   "id": "bd61f82f",
   "metadata": {},
   "source": [
    "# ASSIGNMENT #2 - ATMOSPHERIC SOUNDINGS #\n",
    "Due: 04 February 2023 @ 11:59p"
   ]
  },
  {
   "cell_type": "markdown",
   "id": "816b3dd4",
   "metadata": {},
   "source": [
    "Purpose:\\\n",
    "The purpose of this assignment is to become familiar with reading in text data, storing the data in arrays, applying metpy units, and outputting the data into easily read files.\n",
    "\n",
    "Overview:\\\n",
    "In this assignment you will read in atmospheric sounding data and apply units to the data and print the data to a text file and a comma-separated value (csv) text file.\n",
    "\n",
    "\n",
    "| | UPDATE TO YOUR INFORMATION | \n",
    "| :- | :- |\n",
    "| Created By | Tyler Stebbins |\n",
    "| Creation Date | 22 January 2024 |\n",
    "| Course | ATSC 270 - Computer Concepts in Meteorology |"
   ]
  },
  {
   "cell_type": "code",
   "execution_count": 1,
   "id": "eb870142",
   "metadata": {},
   "outputs": [],
   "source": [
    "### UPDATE TO YOUR INFORMATION ###\n",
    "#information allowing anyone with the code to print the author and contact information\n",
    "__author__    = \"Tyler Stebbins\"\n",
    "__contact__   = \"tyler.stebbins@und.edu\""
   ]
  },
  {
   "cell_type": "markdown",
   "id": "7dec3f1b",
   "metadata": {},
   "source": [
    "### IMPORT REQUIRED LIBRARIES ###"
   ]
  },
  {
   "cell_type": "code",
   "execution_count": 2,
   "id": "b4b5cb45",
   "metadata": {},
   "outputs": [],
   "source": [
    "import numpy as np\n",
    "from metpy.calc import wind_components\n",
    "from metpy.units import units\n",
    "import pandas as pd"
   ]
  },
  {
   "cell_type": "markdown",
   "id": "1df8fe8f",
   "metadata": {},
   "source": [
    "### OPEN SOUNDING FILE ###"
   ]
  },
  {
   "cell_type": "code",
   "execution_count": 5,
   "id": "2a62a4f1",
   "metadata": {},
   "outputs": [],
   "source": [
    "#open file\n",
    "sounding_file = open(\"KBIS_2009011512.txt\",\"r\").readlines()\n",
    "\n"
   ]
  },
  {
   "cell_type": "markdown",
   "id": "133b2f64",
   "metadata": {},
   "source": [
    "### READ IN DATA INTO LISTS ###"
   ]
  },
  {
   "cell_type": "code",
   "execution_count": 13,
   "id": "65907f20",
   "metadata": {},
   "outputs": [
    {
     "name": "stdout",
     "output_type": "stream",
     "text": [
      "['KBIS', 'KBIS', 'KBIS', 'KBIS', 'KBIS', 'KBIS', 'KBIS', 'KBIS', 'KBIS', 'KBIS', 'KBIS', 'KBIS', 'KBIS', 'KBIS', 'KBIS', 'KBIS', 'KBIS', 'KBIS', 'KBIS', 'KBIS', 'KBIS', 'KBIS', 'KBIS', 'KBIS', 'KBIS', 'KBIS', 'KBIS', 'KBIS', 'KBIS', 'KBIS', 'KBIS', 'KBIS', 'KBIS', 'KBIS', 'KBIS', 'KBIS', 'KBIS', 'KBIS', 'KBIS', 'KBIS', 'KBIS', 'KBIS', 'KBIS', 'KBIS', 'KBIS', 'KBIS', 'KBIS', 'KBIS', 'KBIS', 'KBIS', 'KBIS', 'KBIS', 'KBIS', 'KBIS', 'KBIS', 'KBIS', 'KBIS', 'KBIS', 'KBIS', 'KBIS', 'KBIS', 'KBIS', 'KBIS', 'KBIS', 'KBIS', 'KBIS', 'KBIS', 'KBIS', 'KBIS', 'KBIS', 'KBIS', 'KBIS', 'KBIS', 'KBIS', 'KBIS', 'KBIS', 'KBIS', 'KBIS', 'KBIS', 'KBIS']\n"
     ]
    }
   ],
   "source": [
    "#append works best here, even though appending is bad\n",
    "#station,validUTC,levelcode,pressure_mb,height_m,tmpc,dwpc,drct,speed_kts,bearing,range_sm\n",
    "station = []\n",
    "\n",
    "for line in sounding_file[1:]:\n",
    "    station.append(line.split(\",\")[0])\n",
    "\n",
    "print(station)"
   ]
  },
  {
   "cell_type": "markdown",
   "id": "be194c5e",
   "metadata": {},
   "source": [
    "### SUBSET TO MANDATORY AND SIGNIFICANT LEVELS ###\n",
    "\n",
    "#### This should remove missing data ####\n",
    "\n",
    "| Level Code | Meaning |\n",
    "| --- | :- |\n",
    "| 4 | mandatory |\n",
    "| 5 | significant |\n",
    "| 6 | wind level (PPBB) |\n",
    "| 7 | tropopause level |\n",
    "| 8 | maximum wind level |\n",
    "| 9 | surface level |"
   ]
  },
  {
   "cell_type": "code",
   "execution_count": null,
   "id": "0095a064",
   "metadata": {},
   "outputs": [],
   "source": []
  },
  {
   "cell_type": "markdown",
   "id": "0672b7d3",
   "metadata": {},
   "source": [
    "### CONVERT STRINGS ###\n",
    "Some data needs to be floating point numbers, some needs to be integers, some should stay as strings.\n",
    "\n",
    "Hint: You can leave the UTC time as a string and anything that needs NaNs will be a floating point."
   ]
  },
  {
   "cell_type": "code",
   "execution_count": null,
   "id": "99b298a4",
   "metadata": {},
   "outputs": [],
   "source": []
  },
  {
   "cell_type": "markdown",
   "id": "550558da",
   "metadata": {},
   "source": [
    "### ADD UNITS ###\n",
    "Add units using metpy.\n",
    "\n",
    "Make sure to identify which variables need units.\n",
    "\n",
    "https://unidata.github.io/MetPy/latest/tutorials/unit_tutorial.html"
   ]
  },
  {
   "cell_type": "code",
   "execution_count": null,
   "id": "d759caa8",
   "metadata": {},
   "outputs": [],
   "source": []
  },
  {
   "cell_type": "markdown",
   "id": "2de14125",
   "metadata": {},
   "source": [
    "### CONVERT WINDS TO U,V COMPONENTS ###\n",
    "For this, we will be using the metpy.calc.wind_components() function.  This has been imported as wind_components(). \n",
    "\n",
    "https://unidata.github.io/MetPy/latest/api/generated/metpy.calc.wind_components.html\n",
    "\n",
    "Please see the website above to understand how this function works."
   ]
  },
  {
   "cell_type": "code",
   "execution_count": null,
   "id": "f439cc83",
   "metadata": {},
   "outputs": [],
   "source": []
  },
  {
   "cell_type": "markdown",
   "id": "1a8467cf",
   "metadata": {},
   "source": [
    "### CONVERT U,V WINDS TO M/S ###"
   ]
  },
  {
   "cell_type": "code",
   "execution_count": null,
   "id": "9ba4b1b9",
   "metadata": {},
   "outputs": [],
   "source": []
  },
  {
   "cell_type": "markdown",
   "id": "b93037f8",
   "metadata": {},
   "source": [
    "### PRINT DATA ###\n",
    "Print the sounding location and the time of the sounding.\n",
    "\n",
    "Then for each 4 or 5 level-code level, print the pressure (in mb), height (in meters), temperature (in degrees Celsius), dewpoint temperature (in degrees Celsius), u and v wind components (in m/s) with commas separating each value.  Make sure to include units."
   ]
  },
  {
   "cell_type": "code",
   "execution_count": null,
   "id": "5d171fd1",
   "metadata": {},
   "outputs": [],
   "source": []
  },
  {
   "cell_type": "markdown",
   "id": "4217c837",
   "metadata": {},
   "source": [
    "### SAVE TO CSV FILE ###\n",
    "Save to CSV without units.  The CSV file should be named KBIS_sounding.csv. Include the following header:\n",
    "\n",
    "{STATION} - {VALID UTC}<br>\n",
    "pressure[mb],height[m],temperature[degC],dewpoint[degC],u-wind[m/s],v-wind[m/s]\n",
    "\n",
    "Make sure that the winds are limited to 2 decimal places."
   ]
  },
  {
   "cell_type": "code",
   "execution_count": null,
   "id": "0a123e09",
   "metadata": {},
   "outputs": [],
   "source": []
  },
  {
   "cell_type": "markdown",
   "id": "cccc9432",
   "metadata": {},
   "source": [
    "### OPEN THE CSV FILE IN NUMPY ###\n",
    "\n",
    "Here, we are going to use the numpy genfromtxt() function - np.genfromtxt()\n",
    "\n",
    "https://numpy.org/doc/stable/reference/generated/numpy.genfromtxt.html\n",
    "\n",
    "use the names press,height,temp,dwpt,u,v"
   ]
  },
  {
   "cell_type": "code",
   "execution_count": null,
   "id": "0db560cc",
   "metadata": {},
   "outputs": [],
   "source": []
  },
  {
   "cell_type": "markdown",
   "id": "717119e8",
   "metadata": {},
   "source": [
    "### RUN THE CELL BELOW ###\n",
    "If the code above was correct, it should print out the pressure as an array, then temperature as an array, and finally, u-wind component as an array - all with units.\n",
    "\n",
    "Note that the units are now outside the array instead of applied to each element as they were in the list."
   ]
  },
  {
   "cell_type": "code",
   "execution_count": null,
   "id": "2d50731a",
   "metadata": {},
   "outputs": [],
   "source": []
  },
  {
   "cell_type": "markdown",
   "id": "c73a0ad7",
   "metadata": {},
   "source": [
    "### OPEN THE CSV FILE IN PANDAS ###\n",
    "Now we are going to open the CSV file into a pandas dataframe.\n",
    "\n",
    "Dataframes are somewhat like arrays but a bit more complicated.\n",
    "\n",
    "Here, we will use the pandas.read_csv() function - pd.read_csv()\n",
    "\n",
    "Use the same names as above.\n",
    "\n",
    "https://pandas.pydata.org/docs/reference/api/pandas.read_csv.html"
   ]
  },
  {
   "cell_type": "code",
   "execution_count": null,
   "id": "3299a386",
   "metadata": {},
   "outputs": [],
   "source": []
  },
  {
   "cell_type": "markdown",
   "id": "6eeb0151",
   "metadata": {},
   "source": [
    "### NOW PRINT THE DATAFRAME ###\n",
    "If done correctly, you should see the column names auto-populated."
   ]
  },
  {
   "cell_type": "code",
   "execution_count": null,
   "id": "f053bec3",
   "metadata": {},
   "outputs": [],
   "source": []
  }
 ],
 "metadata": {
  "kernelspec": {
   "display_name": "Python 3 (ipykernel)",
   "language": "python",
   "name": "python3"
  },
  "language_info": {
   "codemirror_mode": {
    "name": "ipython",
    "version": 3
   },
   "file_extension": ".py",
   "mimetype": "text/x-python",
   "name": "python",
   "nbconvert_exporter": "python",
   "pygments_lexer": "ipython3",
   "version": "3.11.7"
  }
 },
 "nbformat": 4,
 "nbformat_minor": 5
}
