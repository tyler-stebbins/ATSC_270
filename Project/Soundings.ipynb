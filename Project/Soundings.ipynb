{
 "cells": [
  {
   "cell_type": "code",
   "execution_count": 2,
   "id": "b2e4e9c5-6f04-4dc4-bbe4-394db1235b4b",
   "metadata": {},
   "outputs": [],
   "source": [
    "import numpy as np\n",
    "import metpy.calc as mpcalc\n",
    "from metpy.units import units\n",
    "from metpy.plots import Hodograph, SkewT\n",
    "import pandas as pd\n",
    "import matplotlib.pyplot as plt\n",
    "import matplotlib.gridspec as gridspec"
   ]
  },
  {
   "cell_type": "code",
   "execution_count": 3,
   "id": "4a934ab2-80dd-40da-91c2-c6ce4b486e2c",
   "metadata": {},
   "outputs": [],
   "source": [
    "#Project Soundings\n"
   ]
  },
  {
   "cell_type": "code",
   "execution_count": 12,
   "id": "2fc6d975-6762-4c8b-a174-e8ea5722cee5",
   "metadata": {},
   "outputs": [
    {
     "name": "stdout",
     "output_type": "stream",
     "text": [
      "    station,validUTC,levelcode,pressure_mb,height_m,tmpc,dwpc,drct,speed_kts,bearing,range_sm\n",
      "0    KOAK,2022-12-26 12:00:00,9,1022.0,6.0,8.0,7.6,...                                       \n",
      "1    KOAK,2022-12-26 12:00:00,5,1007.0,128.0,8.8,6....                                       \n",
      "2    KOAK,2022-12-26 12:00:00,4,1000.0,183.0,10.4,6...                                       \n",
      "3    KOAK,2022-12-26 12:00:00,5,999.0,191.0,11.0,6....                                       \n",
      "4    KOAK,2022-12-26 12:00:00,5,996.0,216.0,11.2,8....                                       \n",
      "..                                                 ...                                       \n",
      "366  KOAK,2022-12-27 00:00:00,5,7.8,32606.0,-38.5,-...                                       \n",
      "367  KOAK,2022-12-27 00:00:00,6,7.4,32924.0,M,M,265...                                       \n",
      "368  KOAK,2022-12-27 00:00:00,6,7.1,33229.0,M,M,270...                                       \n",
      "369  KOAK,2022-12-27 00:00:00,5,6.8,33542.0,-40.7,-...                                       \n",
      "370  KOAK,2022-12-27 00:00:00,5,5.9,34513.0,-37.3,-...                                       \n",
      "\n",
      "[371 rows x 1 columns]\n"
     ]
    }
   ],
   "source": [
    "#open file\n",
    "data = pd.read_csv('KOAKDec26.txt', delimiter = \"\\t\")\n",
    "print(data) #dosnt work maybe?\n",
    "#print(data['levelcode'])"
   ]
  },
  {
   "cell_type": "code",
   "execution_count": null,
   "id": "c8da4aaa-48ca-4f7b-b6fd-315174236212",
   "metadata": {},
   "outputs": [],
   "source": []
  },
  {
   "cell_type": "code",
   "execution_count": null,
   "id": "76ae8c32-5e79-49ec-bbc6-ed43c20c4748",
   "metadata": {},
   "outputs": [],
   "source": []
  }
 ],
 "metadata": {
  "kernelspec": {
   "display_name": "Python 3 (ipykernel)",
   "language": "python",
   "name": "python3"
  },
  "language_info": {
   "codemirror_mode": {
    "name": "ipython",
    "version": 3
   },
   "file_extension": ".py",
   "mimetype": "text/x-python",
   "name": "python",
   "nbconvert_exporter": "python",
   "pygments_lexer": "ipython3",
   "version": "3.11.7"
  }
 },
 "nbformat": 4,
 "nbformat_minor": 5
}
