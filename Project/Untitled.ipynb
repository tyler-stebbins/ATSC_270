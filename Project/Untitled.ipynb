{
 "cells": [
  {
   "cell_type": "code",
   "execution_count": 28,
   "id": "610fd144-e088-4caf-8061-4cfe702f01e0",
   "metadata": {},
   "outputs": [],
   "source": [
    "from netCDF4 import Dataset\n",
    "import numpy as np\n",
    "from metpy.plots import wx_code_to_numeric\n",
    "import pandas as pd\n",
    "\n",
    "import metpy.calc as mpcalc\n",
    "from metpy.units import units\n",
    "from metpy.plots import current_weather, sky_cover, StationPlot, simple_layout\n",
    "from metpy.io import metar\n",
    "import matplotlib.pyplot as plt\n",
    "\n",
    "import cartopy.crs as ccrs\n",
    "import cartopy.feature as cfeature"
   ]
  },
  {
   "cell_type": "code",
   "execution_count": 29,
   "id": "4189c5dc-06b5-43e8-ae62-2544e8b8ef05",
   "metadata": {},
   "outputs": [],
   "source": [
    "data = Dataset('./20221227_0900')\n",
    "#for var in data.variables:\n",
    "    #print(var)"
   ]
  },
  {
   "cell_type": "code",
   "execution_count": 31,
   "id": "a1e00431-b63a-4f75-9333-5dae2696d35c",
   "metadata": {},
   "outputs": [],
   "source": [
    "station_name = data.variables['stationName'][:]\n",
    "latitude = data.variables['latitude'][:]\n",
    "longitude = data.variables['longitude'][:]\n",
    "temp = data.variables['temperature'][:]\n",
    "dwpt = data.variables['dewpoint'][:]\n",
    "wspd = data.variables['windSpeed'][:]\n",
    "wdir = data.variables['windDir'][:]\n",
    "gust = data.variables['windGust'][:]\n",
    "weather = data.variables['presWeather'][:]\n",
    "visibility = data.variables['visibility'][:]\n",
    "pslp = data.variables['seaLevelPress'][:]\n",
    "skycover = data.variables['skyCover'][:]"
   ]
  },
  {
   "cell_type": "code",
   "execution_count": 32,
   "id": "2da6392d-a9a0-4dcc-aa13-03c4fcabc76f",
   "metadata": {},
   "outputs": [],
   "source": [
    "stn_names = ['']*len(station_name)\n",
    "for index in range(len(station_name)):\n",
    "    stn = station_name[index].tobytes().decode().rstrip('\\x00')\n",
    "    stn_names[index] = stn\n",
    "#print (stn_names)\n",
    "\n",
    "cur_wx = ['']*len(weather)\n",
    "for index in range(len(weather)):\n",
    "    wx = weather[index].tobytes().decode().rstrip('\\x00')\n",
    "    cur_wx[index] = wx\n",
    "\n",
    "wx_codes = wx_code_to_numeric(cur_wx)\n",
    "#for i in range(len(wx_codes)):\n",
    "    #print (cur_wx[i],wx_codes[i])\n",
    "\n",
    "sky_cover_num = np.empty(len(skycover))\n",
    "for i in range(len(skycover)):\n",
    "    this_skycvr = skycover[i].tobytes().decode().rstrip('\\x00')\n",
    "    if this_skycvr[-3:] == 'SKC' or this_skycvr[-3:] == 'CLR':\n",
    "        sky_cover_num[i] = 0\n",
    "    elif this_skycvr[-3:] == 'FEW':\n",
    "        sky_cover_num[i] = 2\n",
    "    elif this_skycvr[-3:] == 'SCT':\n",
    "        sky_cover_num[i] = 4\n",
    "    elif this_skycvr[-3:] =='BRK':\n",
    "        sky_cover_num[i] = 6\n",
    "    elif this_skycvr[-3:] == 'OVC':\n",
    "        sky_cover_num[i] = 8"
   ]
  },
  {
   "cell_type": "code",
   "execution_count": 33,
   "id": "888e7072-ae15-413c-9413-8757aaaa55a1",
   "metadata": {},
   "outputs": [
    {
     "name": "stderr",
     "output_type": "stream",
     "text": [
      "/tmp/ipykernel_2203946/3146315831.py:3: UserWarning: Input over 12.566370614359172 radians. Ensure proper units are given.\n",
      "  u,v = mpcalc.wind_components(wspd_from_nc, wdir_from_nc)\n"
     ]
    }
   ],
   "source": [
    "wspd_from_nc = np.array(wspd)*units('m/s')\n",
    "wdir_from_nc = np.array(wdir)*units('degrees')\n",
    "u,v = mpcalc.wind_components(wspd_from_nc, wdir_from_nc)"
   ]
  },
  {
   "cell_type": "code",
   "execution_count": 38,
   "id": "8b5ecec5-ffed-4af7-899e-aff5c507f82a",
   "metadata": {},
   "outputs": [],
   "source": [
    "#convert data to pandas dataframe\n",
    "data_for_df = {'station_id':stn_names,\n",
    "               'latitude':latitude,\n",
    "               'longitude':longitude,\n",
    "               'wind_direction':wdir,\n",
    "               'wind_speed':wspd,\n",
    "               'wind_gust':gust,\n",
    "               'visibility':visibility,\n",
    "               'current_wx1_symbol':wx_codes,\n",
    "               'air_temperature':temp,\n",
    "               'dew_point_temperature':dwpt,\n",
    "               'air_pressure_at_sea_level':pslp, \n",
    "               'skycover':sky_cover_num}\n",
    "\n",
    "df = pd.DataFrame(data_for_df, index = stn_names)\n",
    "#print(df)"
   ]
  },
  {
   "cell_type": "code",
   "execution_count": null,
   "id": "9394d034-4e43-4eb2-b9a9-7b02010b9c81",
   "metadata": {},
   "outputs": [],
   "source": []
  }
 ],
 "metadata": {
  "kernelspec": {
   "display_name": "Python 3 (ipykernel)",
   "language": "python",
   "name": "python3"
  },
  "language_info": {
   "codemirror_mode": {
    "name": "ipython",
    "version": 3
   },
   "file_extension": ".py",
   "mimetype": "text/x-python",
   "name": "python",
   "nbconvert_exporter": "python",
   "pygments_lexer": "ipython3",
   "version": "3.11.7"
  }
 },
 "nbformat": 4,
 "nbformat_minor": 5
}
