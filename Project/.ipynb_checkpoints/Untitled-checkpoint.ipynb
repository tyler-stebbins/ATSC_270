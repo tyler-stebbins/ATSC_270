{
 "cells": [
  {
   "cell_type": "code",
   "execution_count": 45,
   "id": "610fd144-e088-4caf-8061-4cfe702f01e0",
   "metadata": {},
   "outputs": [],
   "source": [
    "from netCDF4 import Dataset\n",
    "import numpy as np\n",
    "from metpy.plots import wx_code_to_numeric\n",
    "import pandas as pd"
   ]
  },
  {
   "cell_type": "code",
   "execution_count": 46,
   "id": "4189c5dc-06b5-43e8-ae62-2544e8b8ef05",
   "metadata": {},
   "outputs": [],
   "source": [
    "data = Dataset('./20221227_0900')"
   ]
  },
  {
   "cell_type": "code",
   "execution_count": 47,
   "id": "a1e00431-b63a-4f75-9333-5dae2696d35c",
   "metadata": {},
   "outputs": [],
   "source": [
    "station_name = data.variables['stationName'][:]\n",
    "latitude = data.variables['latitude'][:]\n",
    "longitude = data.variables['longitude'][:]\n",
    "temp = data.variables['temperature'][:]\n",
    "dwpt = data.variables['dewpoint'][:]\n",
    "wspd = data.variables['windSpeed'][:]\n",
    "wdir = data.variables['windDir'][:]\n",
    "gust = data.variables['windGust'][:]\n",
    "weather = data.variables['presWeather'][:]\n",
    "visibility = data.variables['visibility'][:]\n",
    "pslp = data.variables['seaLevelPress'][:]"
   ]
  },
  {
   "cell_type": "code",
   "execution_count": 48,
   "id": "2da6392d-a9a0-4dcc-aa13-03c4fcabc76f",
   "metadata": {},
   "outputs": [],
   "source": [
    "stn_names = ['']*len(station_name)\n",
    "for index in range(len(station_name)):\n",
    "    stn = station_name[index].tobytes().decode().rstrip('\\x00')\n",
    "    stn_names[index] = stn\n",
    "#print (stn_names)\n",
    "\n",
    "cur_wx = ['']*len(weather)\n",
    "for index in range(len(weather)):\n",
    "    wx = weather[index].tobytes().decode().rstrip('\\x00')\n",
    "    cur_wx[index] = wx\n",
    "\n",
    "wx_codes = wx_code_to_numeric(cur_wx)\n",
    "#for i in range(len(wx_codes)):\n",
    "    #print (cur_wx[i],wx_codes[i])"
   ]
  },
  {
   "cell_type": "code",
   "execution_count": 49,
   "id": "8b5ecec5-ffed-4af7-899e-aff5c507f82a",
   "metadata": {},
   "outputs": [
    {
     "ename": "AttributeError",
     "evalue": "module 'pandas' has no attribute 'Dataframe'",
     "output_type": "error",
     "traceback": [
      "\u001b[0;31m---------------------------------------------------------------------------\u001b[0m",
      "\u001b[0;31mAttributeError\u001b[0m                            Traceback (most recent call last)",
      "Cell \u001b[0;32mIn[49], line 2\u001b[0m\n\u001b[1;32m      1\u001b[0m \u001b[38;5;66;03m#convert data to pandas dataframe\u001b[39;00m\n\u001b[0;32m----> 2\u001b[0m df \u001b[38;5;241m=\u001b[39m pd\u001b[38;5;241m.\u001b[39mDataframe()\n",
      "\u001b[0;31mAttributeError\u001b[0m: module 'pandas' has no attribute 'Dataframe'"
     ]
    }
   ],
   "source": [
    "#convert data to pandas dataframe\n",
    "data_for_df = [stn_names, latitude, longitude, wdir, wspd, gusts, visibillity, wx_codes, temp, dwpt, pslp]\n",
    "col_names = ['station_id', 'latitude', 'longitude', 'wind_direction', 'wind_speed', 'wind_gust', 'visibility', 'current_wx1_symbol', \n",
    "             'air_temperature', 'dew_point_temperature', 'air_pressure_at_sealevel']\n",
    "df = pd.Dataframe(data = data_for_df, index = stn_names, columns = col_names, dtype = None)"
   ]
  },
  {
   "cell_type": "code",
   "execution_count": null,
   "id": "9394d034-4e43-4eb2-b9a9-7b02010b9c81",
   "metadata": {},
   "outputs": [],
   "source": []
  }
 ],
 "metadata": {
  "kernelspec": {
   "display_name": "Python 3 (ipykernel)",
   "language": "python",
   "name": "python3"
  },
  "language_info": {
   "codemirror_mode": {
    "name": "ipython",
    "version": 3
   },
   "file_extension": ".py",
   "mimetype": "text/x-python",
   "name": "python",
   "nbconvert_exporter": "python",
   "pygments_lexer": "ipython3",
   "version": "3.11.7"
  }
 },
 "nbformat": 4,
 "nbformat_minor": 5
}
